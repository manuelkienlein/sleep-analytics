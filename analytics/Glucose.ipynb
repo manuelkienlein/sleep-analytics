{
 "cells": [
  {
   "cell_type": "markdown",
   "id": "77312240-5c77-4b7d-81d6-2a79502fe0e4",
   "metadata": {},
   "source": [
    "# Glucose Analytics"
   ]
  },
  {
   "cell_type": "code",
   "execution_count": 6,
   "id": "e9a86be6-ae75-45bd-9939-60fe3560ac68",
   "metadata": {},
   "outputs": [],
   "source": [
    "import pandas as pd\n",
    "import matplotlib.pyplot as plt"
   ]
  },
  {
   "cell_type": "markdown",
   "id": "fe9984de-81c5-499a-9d10-c31dc4517516",
   "metadata": {},
   "source": [
    "## Explore glucose data from user P12"
   ]
  },
  {
   "cell_type": "code",
   "execution_count": 7,
   "id": "e5047745-a028-44d3-bd89-bbd457d53425",
   "metadata": {},
   "outputs": [
    {
     "data": {
      "text/html": [
       "<div>\n",
       "<style scoped>\n",
       "    .dataframe tbody tr th:only-of-type {\n",
       "        vertical-align: middle;\n",
       "    }\n",
       "\n",
       "    .dataframe tbody tr th {\n",
       "        vertical-align: top;\n",
       "    }\n",
       "\n",
       "    .dataframe thead th {\n",
       "        text-align: right;\n",
       "    }\n",
       "</style>\n",
       "<table border=\"1\" class=\"dataframe\">\n",
       "  <thead>\n",
       "    <tr style=\"text-align: right;\">\n",
       "      <th></th>\n",
       "      <th>glucose</th>\n",
       "      <th>recorded_timestamp</th>\n",
       "    </tr>\n",
       "  </thead>\n",
       "  <tbody>\n",
       "    <tr>\n",
       "      <th>0</th>\n",
       "      <td>85</td>\n",
       "      <td>2023-12-21 14:28:21</td>\n",
       "    </tr>\n",
       "    <tr>\n",
       "      <th>1</th>\n",
       "      <td>91</td>\n",
       "      <td>2023-12-21 14:29:21</td>\n",
       "    </tr>\n",
       "    <tr>\n",
       "      <th>2</th>\n",
       "      <td>91</td>\n",
       "      <td>2023-12-21 14:30:21</td>\n",
       "    </tr>\n",
       "    <tr>\n",
       "      <th>3</th>\n",
       "      <td>96</td>\n",
       "      <td>2023-12-21 14:31:22</td>\n",
       "    </tr>\n",
       "    <tr>\n",
       "      <th>4</th>\n",
       "      <td>83</td>\n",
       "      <td>2023-12-21 14:32:01</td>\n",
       "    </tr>\n",
       "    <tr>\n",
       "      <th>...</th>\n",
       "      <td>...</td>\n",
       "      <td>...</td>\n",
       "    </tr>\n",
       "    <tr>\n",
       "      <th>572</th>\n",
       "      <td>86</td>\n",
       "      <td>2023-12-21 23:55:10</td>\n",
       "    </tr>\n",
       "    <tr>\n",
       "      <th>573</th>\n",
       "      <td>85</td>\n",
       "      <td>2023-12-21 23:56:11</td>\n",
       "    </tr>\n",
       "    <tr>\n",
       "      <th>574</th>\n",
       "      <td>85</td>\n",
       "      <td>2023-12-21 23:57:10</td>\n",
       "    </tr>\n",
       "    <tr>\n",
       "      <th>575</th>\n",
       "      <td>87</td>\n",
       "      <td>2023-12-21 23:58:11</td>\n",
       "    </tr>\n",
       "    <tr>\n",
       "      <th>576</th>\n",
       "      <td>88</td>\n",
       "      <td>2023-12-21 23:59:13</td>\n",
       "    </tr>\n",
       "  </tbody>\n",
       "</table>\n",
       "<p>577 rows × 2 columns</p>\n",
       "</div>"
      ],
      "text/plain": [
       "     glucose   recorded_timestamp\n",
       "0         85  2023-12-21 14:28:21\n",
       "1         91  2023-12-21 14:29:21\n",
       "2         91  2023-12-21 14:30:21\n",
       "3         96  2023-12-21 14:31:22\n",
       "4         83  2023-12-21 14:32:01\n",
       "..       ...                  ...\n",
       "572       86  2023-12-21 23:55:10\n",
       "573       85  2023-12-21 23:56:11\n",
       "574       85  2023-12-21 23:57:10\n",
       "575       87  2023-12-21 23:58:11\n",
       "576       88  2023-12-21 23:59:13\n",
       "\n",
       "[577 rows x 2 columns]"
      ]
     },
     "execution_count": 7,
     "metadata": {},
     "output_type": "execute_result"
    }
   ],
   "source": [
    "glucose_df = pd.read_csv('../data/P12/supersapiens/2023-12-21.csv', sep=';')\n",
    "glucose_df"
   ]
  },
  {
   "cell_type": "code",
   "execution_count": 8,
   "id": "d6c5ecc0-e4ba-4f91-8b5f-2809c0817293",
   "metadata": {},
   "outputs": [
    {
     "name": "stdout",
     "output_type": "stream",
     "text": [
      "recorded_timestamp\n",
      "14     81.500000\n",
      "15    100.269841\n",
      "16     73.396825\n",
      "17     67.698413\n",
      "18     72.578947\n",
      "19     80.830508\n",
      "20     88.700000\n",
      "21     82.576271\n",
      "22     83.066667\n",
      "23     79.440678\n",
      "Name: glucose, dtype: float64\n"
     ]
    }
   ],
   "source": [
    "# Convert timestamp\n",
    "glucose_df['recorded_timestamp'] = pd.to_datetime(glucose_df['recorded_timestamp'])\n",
    "\n",
    "# Group by hour\n",
    "glucose_mean_per_hour = glucose_df.groupby(glucose_df['recorded_timestamp'].dt.hour)['glucose'].mean()\n",
    "print(glucose_mean_per_hour)"
   ]
  },
  {
   "cell_type": "code",
   "execution_count": 10,
   "id": "7e63dfc0-aea5-44c7-9bc2-6d3ee0d9a435",
   "metadata": {},
   "outputs": [
    {
     "data": {
      "image/png": "[encoded data removed]",
      "text/plain": [
       "<Figure size 640x480 with 1 Axes>"
      ]
     },
     "metadata": {},
     "output_type": "display_data"
    }
   ],
   "source": [
    "glucose_mean_per_hour.plot(x ='recorded_timestamp', y='glucose', kind='line'),\n",
    "plt.ylim(ymin=0)\n",
    "plt.xlim(xmin=0)\n",
    "plt.ylabel(\"Glucose level (mg/dL)\")\n",
    "plt.xlabel(\"Time (Hours)\")\n",
    "\n",
    "plt.show()"
   ]
  }
 ],
 "metadata": {
  "kernelspec": {
   "display_name": "Python 3 (ipykernel)",
   "language": "python",
   "name": "python3"
  },
  "language_info": {
   "codemirror_mode": {
    "name": "ipython",
    "version": 3
   },
   "file_extension": ".py",
   "mimetype": "text/x-python",
   "name": "python",
   "nbconvert_exporter": "python",
   "pygments_lexer": "ipython3",
   "version": "3.9.6"
  }
 },
 "nbformat": 4,
 "nbformat_minor": 5
}
